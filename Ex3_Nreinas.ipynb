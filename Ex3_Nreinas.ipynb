{
  "nbformat": 4,
  "nbformat_minor": 0,
  "metadata": {
    "colab": {
      "provenance": [],
      "authorship_tag": "ABX9TyNxkQxkkwa+UOadp7IZTiAp",
      "include_colab_link": true
    },
    "kernelspec": {
      "name": "python3",
      "display_name": "Python 3"
    },
    "language_info": {
      "name": "python"
    }
  },
  "cells": [
    {
      "cell_type": "markdown",
      "metadata": {
        "id": "view-in-github",
        "colab_type": "text"
      },
      "source": [
        "<a href=\"https://colab.research.google.com/github/LizVallejos1/Examen3_354/blob/main/Ex3_Nreinas.ipynb\" target=\"_parent\"><img src=\"https://colab.research.google.com/assets/colab-badge.svg\" alt=\"Open In Colab\"/></a>"
      ]
    },
    {
      "cell_type": "code",
      "execution_count": 56,
      "metadata": {
        "id": "aCklp8yNGuqy"
      },
      "outputs": [],
      "source": [
        "import random\n",
        "import matplotlib.pyplot as plt\n",
        "import numpy as np\n"
      ]
    },
    {
      "cell_type": "code",
      "source": [
        "def inicializar_poblacion(tamano_poblacion, n):\n",
        "    poblacion = []\n",
        "    for _ in range(tamano_poblacion):\n",
        "        cromosoma = [random.randint(0, n-1) for _ in range(n)]\n",
        "        poblacion.append(cromosoma)#agrego cromosoma generando lista de poblacion\n",
        "    return poblacion#retorno la poblacion completa en varios individuos\n",
        "\n",
        "def calcular_fitness(cromosoma): #cro,solucion potencial al problema\n",
        "    conflicts = 0\n",
        "    n = len(cromosoma)\n",
        "    for i in range(n):\n",
        "        for j in range(i + 1, n):        #msma columna, misma diagonal\n",
        "            if cromosoma[i] == cromosoma[j] or abs(cromosoma[i] - cromosoma[j]) == abs(i - j):\n",
        "                conflicts += 1# si, so ++comflictos #verifica si hay conflicto entre 2 reinas\n",
        "    return conflicts"
      ],
      "metadata": {
        "id": "LA3xHw7eG2nG"
      },
      "execution_count": 69,
      "outputs": []
    },
    {
      "cell_type": "code",
      "source": [
        "def seleccion_padres(poblacion, tamano_torneo):\n",
        "    padres = []\n",
        "    for _ in range(len(poblacion)):\n",
        "        torneo = random.sample(poblacion, tamano_torneo)\n",
        "        mejor_padre = min(torneo, key=lambda x: calcular_fitness(x))\n",
        "        padres.append(mejor_padre)\n",
        "    return padres\n",
        "\n",
        "def cruzar(padre1, padre2):\n",
        "    punto_cruce = random.randint(1, len(padre1) - 1)\n",
        "    hijo1 = padre1[:punto_cruce] + padre2[punto_cruce:]\n",
        "    hijo2 = padre2[:punto_cruce] + padre1[punto_cruce:]\n",
        "    return hijo1, hijo2\n",
        "\n",
        "def mutar(cromosoma, tasa_mutacion):\n",
        "    for i in range(len(cromosoma)):\n",
        "        if random.random() < tasa_mutacion:\n",
        "            cromosoma[i] = random.randint(0, len(cromosoma) - 1)\n",
        "    return cromosoma\n",
        "\n",
        "\n",
        "def dibujar_tablero(solucion):\n",
        "    n = len(solucion)\n",
        "    tablero = np.zeros((n, n))\n",
        "\n",
        "    for i, j in enumerate(solucion):\n",
        "        tablero[i, j] = 1\n",
        "\n",
        "    plt.imshow(tablero, cmap='Blues', interpolation='none')\n",
        "    plt.xticks(range(n), [str(i) for i in range(1, n + 1)])\n",
        "    plt.yticks(range(n), [str(i) for i in range(1, n + 1)])\n",
        "    plt.show()\n",
        "\n",
        "\n",
        "def algoritmo_genetico(n, tamano_poblacion, tamano_torneo, tasa_mutacion, generaciones_limite):\n",
        "    poblacion = inicializar_poblacion(tamano_poblacion, n)\n",
        "\n",
        "    for generacion in range(generaciones_limite):  #bucleprincipal\n",
        "        poblacion.sort(key=lambda x: calcular_fitness(x)) #ordeno,verifico si find pobacion optima\n",
        "        mejor_cromosoma = poblacion[0]\n",
        "        mejor_fitness = calcular_fitness(mejor_cromosoma)\n",
        "\n",
        "        if mejor_fitness == 0:\n",
        "            print(f'Solución encontrada en la generación {generacion}:\\n{mejor_cromosoma}')\n",
        "            return mejor_cromosoma\n",
        "\n",
        "        padres = seleccion_padres(poblacion, tamano_torneo)\n",
        "        nueva_poblacion = []\n",
        "         # creacion de una nuevva poblacion mediante cruzmiento y mmutacion\n",
        "        for i in range(0, tamano_poblacion, 2):\n",
        "            padre1, padre2 = random.choice(padres), random.choice(padres)\n",
        "            hijo1, hijo2 = cruzar(padre1, padre2)\n",
        "            hijo1 = mutar(hijo1, tasa_mutacion)\n",
        "            hijo2 = mutar(hijo2, tasa_mutacion)\n",
        "            nueva_poblacion.extend([hijo1, hijo2])\n",
        "          #actualizo poblacion\n",
        "        poblacion = nueva_poblacion\n",
        "\n",
        "    print(f'No se encontró una solución después de {generaciones_limite} generaciones.')\n",
        "    return []\n"
      ],
      "metadata": {
        "id": "WSJv5YRJM6Mg"
      },
      "execution_count": 73,
      "outputs": []
    },
    {
      "cell_type": "code",
      "source": [
        "# Parámetros\n",
        "n_reinas = 8 # pongo 8 reinas\n",
        "tamano_poblacion = 100\n",
        "tamano_torneo = 5\n",
        "tasa_mutacion = 0.2 #mutaccion al 20 %\n",
        "generaciones_limite = 1000"
      ],
      "metadata": {
        "id": "_i8JcYaHG26O"
      },
      "execution_count": 74,
      "outputs": []
    },
    {
      "cell_type": "code",
      "source": [
        "# Ejecutar el algoritmo genético y obtener la solución final\n",
        "solucion_final = algoritmo_genetico(n_reinas, tamano_poblacion, tamano_torneo, tasa_mutacion, generaciones_limite)\n",
        "\n",
        "# Visualizar el tablero con la solución final\n",
        "if solucion_final:\n",
        "    dibujar_tablero(solucion_final)"
      ],
      "metadata": {
        "colab": {
          "base_uri": "https://localhost:8080/",
          "height": 465
        },
        "id": "eGGjMWuQG28v",
        "outputId": "27e25020-bb58-4615-e7c0-7f69d7461137"
      },
      "execution_count": 75,
      "outputs": [
        {
          "output_type": "stream",
          "name": "stdout",
          "text": [
            "Solución encontrada en la generación 26:\n",
            "[2, 7, 3, 6, 0, 5, 1, 4]\n"
          ]
        },
        {
          "output_type": "display_data",
          "data": {
            "text/plain": [
              "<Figure size 640x480 with 1 Axes>"
            ],
            "image/png": "[encoded data removed]"
          },
          "metadata": {}
        }
      ]
    }
  ]
}