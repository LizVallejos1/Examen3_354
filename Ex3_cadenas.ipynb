{
  "nbformat": 4,
  "nbformat_minor": 0,
  "metadata": {
    "colab": {
      "provenance": [],
      "authorship_tag": "ABX9TyP3P4aNjyHUYbQ0EeUpnlNF",
      "include_colab_link": true
    },
    "kernelspec": {
      "name": "python3",
      "display_name": "Python 3"
    },
    "language_info": {
      "name": "python"
    }
  },
  "cells": [
    {
      "cell_type": "markdown",
      "metadata": {
        "id": "view-in-github",
        "colab_type": "text"
      },
      "source": [
        "<a href=\"https://colab.research.google.com/github/LizVallejos1/Examen3_354/blob/main/Ex3_cadenas.ipynb\" target=\"_parent\"><img src=\"https://colab.research.google.com/assets/colab-badge.svg\" alt=\"Open In Colab\"/></a>"
      ]
    },
    {
      "cell_type": "code",
      "execution_count": null,
      "metadata": {
        "colab": {
          "base_uri": "https://localhost:8080/"
        },
        "id": "jIVB9j2LDnpr",
        "outputId": "0e93da75-5f03-4d23-cc4b-7a19fc19385d"
      },
      "outputs": [
        {
          "output_type": "stream",
          "name": "stdout",
          "text": [
            "Similitud entre las cadenas: 0.9795918367346939\n"
          ]
        }
      ],
      "source": [
        "\n",
        "import difflib\n",
        "\n",
        "def calcular_similitud_cadenas(cadena1, cadena2):\n",
        "    # Obtener un objeto de comparación\n",
        "    comparador = difflib.SequenceMatcher(None, cadena1, cadena2)\n",
        "\n",
        "    # Calcular la similitud entre las cadenas (rango de 0 a 1)\n",
        "    similitud = comparador.ratio()\n",
        "\n",
        "    return similitud\n",
        "\n",
        "# Ejemplo de uso\n",
        "cadena_original = \"Mabru se fue a la guerra\"\n",
        "cadena_modificada = \"Manbru se fue a la guerra\"\n",
        "\n",
        "similitud = calcular_similitud_cadenas(cadena_original, cadena_modificada)\n",
        "\n",
        "print(f\"Similitud entre las cadenas: {similitud}\")"
      ]
    },
    {
      "cell_type": "code",
      "source": [],
      "metadata": {
        "id": "R2Z26BOYQV1h"
      },
      "execution_count": null,
      "outputs": []
    },
    {
      "cell_type": "code",
      "source": [
        "def distancia_levenshtein(str1, str2):\n",
        "    len_str1 = len(str1) + 1\n",
        "    len_str2 = len(str2) + 1\n",
        "\n",
        "    matriz = [[0 for _ in range(len_str2)] for _ in range(len_str1)]\n",
        "\n",
        "    for i in range(len_str1):\n",
        "        matriz[i][0] = i\n",
        "\n",
        "    for j in range(len_str2):\n",
        "        matriz[0][j] = j\n",
        "\n",
        "    for i in range(1, len_str1):\n",
        "        for j in range(1, len_str2):\n",
        "            coste = 0 if str1[i - 1] == str2[j - 1] else 1\n",
        "            matriz[i][j] = min(\n",
        "                matriz[i - 1][j] + 1,\n",
        "                matriz[i][j - 1] + 1,\n",
        "                matriz[i - 1][j - 1] + coste\n",
        "            )\n",
        "\n",
        "    return matriz[len_str1 - 1][len_str2 - 1]\n",
        "\n",
        "# Ejemplo de uso\n",
        "cadena1 = \"Mabru se fue a la guerra\"\n",
        "cadena2 = \"Manbru se fuee a la guerrax\"\n",
        "distancia = distancia_levenshtein(cadena1, cadena2)\n",
        "print(f\"Distancia de Levenshtein entre '{cadena1}' y '{cadena2}': {distancia}\")"
      ],
      "metadata": {
        "id": "vDSt7zqQQYXk",
        "colab": {
          "base_uri": "https://localhost:8080/"
        },
        "outputId": "85cb505f-c250-4af1-f781-8a1399dc94fe"
      },
      "execution_count": 4,
      "outputs": [
        {
          "output_type": "stream",
          "name": "stdout",
          "text": [
            "Distancia de Levenshtein entre 'Mabru se fue a la guerra' y 'Manbru se fuee a la guerrax': 3\n"
          ]
        }
      ]
    },
    {
      "cell_type": "code",
      "source": [
        "def encontrar_diferencia(str1, str2):\n",
        "    len_str1, len_str2 = len(str1), len(str2)\n",
        "    min_len = min(len_str1, len_str2)\n",
        "\n",
        "    indice_diferencia = next((i for i in range(min_len) if str1[i] != str2[i]), min_len)\n",
        "    palabra_diferente = str1[indice_diferencia:] if len_str1 > len_str2 else str2[indice_diferencia:]\n",
        "\n",
        "    return palabra_diferente\n",
        "\n",
        "# Ejemplo de uso\n",
        "cadena1 = \"Mabru se fue a la guerra\"\n",
        "cadena2 = \"Manbru se fuee a la guerrax\"\n",
        "diferencia = encontrar_diferencia(cadena1, cadena2)\n",
        "print(f\"Palabra diferente entre '{cadena1}' y '{cadena2}': '{diferencia}'\")"
      ],
      "metadata": {
        "colab": {
          "base_uri": "https://localhost:8080/"
        },
        "id": "z3tr_B5_WbQh",
        "outputId": "8f84d1f5-bca0-4df6-ffe4-c6ced25aa39f"
      },
      "execution_count": 8,
      "outputs": [
        {
          "output_type": "stream",
          "name": "stdout",
          "text": [
            "Palabra diferente entre 'Mabru se fue a la guerra' y 'Manbru se fuee a la guerrax': 'nbru se fuee a la guerrax'\n"
          ]
        }
      ]
    }
  ]
}