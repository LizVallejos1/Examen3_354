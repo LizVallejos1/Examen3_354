{
  "nbformat": 4,
  "nbformat_minor": 0,
  "metadata": {
    "colab": {
      "provenance": [],
      "mount_file_id": "1HL6BtRxHj_fwWBEvaYmuN5mM92sHZoGD",
      "authorship_tag": "ABX9TyOsFQoK4cju+Uk1GS8rlZih",
      "include_colab_link": true
    },
    "kernelspec": {
      "name": "python3",
      "display_name": "Python 3"
    },
    "language_info": {
      "name": "python"
    }
  },
  "cells": [
    {
      "cell_type": "markdown",
      "metadata": {
        "id": "view-in-github",
        "colab_type": "text"
      },
      "source": [
        "<a href=\"https://colab.research.google.com/github/LizVallejos1/Examen3_354/blob/main/Ex3_tensorflow.ipynb\" target=\"_parent\"><img src=\"https://colab.research.google.com/assets/colab-badge.svg\" alt=\"Open In Colab\"/></a>"
      ]
    },
    {
      "cell_type": "code",
      "source": [
        "import tensorflow as tf\n",
        "from sklearn.datasets import load_digits\n",
        "import matplotlib.pyplot as plt\n",
        "from sklearn.model_selection import train_test_split\n",
        "from tensorflow.keras.utils import to_categorical\n",
        "from tensorflow.keras.layers import Dense, Conv2D, MaxPooling2D, Dropout, Flatten\n",
        "#capa cnectada, capa de convolucion bidimensional,capa de reduccion de muestreo,drpou de regularizacion, para aplanar datos\n",
        "#drpout,apaga aleatoriamente un porcentaje de neuronas"
      ],
      "metadata": {
        "id": "ObQk9oEiTGev"
      },
      "execution_count": null,
      "outputs": []
    },
    {
      "cell_type": "code",
      "source": [
        "def mostrar_todas_las_imagenes(digitos):\n",
        "    fig, axs = plt.subplots(2, 5, figsize=(10, 5))#2filas 5 columnas\n",
        "    axs = axs.flatten() #aplana la mtriz\n",
        "\n",
        "    for i in range(10):  # Hay 10 dígitos en total (0 al 9)\n",
        "        axs[i].imshow(digitos.images[i], cmap=plt.cm.gray_r)#muestra imagen del iesimo digito,escala de grises\n",
        "        axs[i].set_title(f'Etiqueta: {digitos.target[i]}')\n",
        "\n",
        "    plt.show()"
      ],
      "metadata": {
        "id": "wubMxhpkPLfl"
      },
      "execution_count": null,
      "outputs": []
    },
    {
      "cell_type": "code",
      "source": [
        "# Cargar el conjunto de datos de dígitos\n",
        "digitos = load_digits()"
      ],
      "metadata": {
        "id": "chzdhQgiPPDc"
      },
      "execution_count": null,
      "outputs": []
    },
    {
      "cell_type": "code",
      "source": [
        "\n",
        "# Llamar a la función para mostrar todas las imágenes\n",
        "mostrar_todas_las_imagenes(digitos)"
      ],
      "metadata": {
        "colab": {
          "base_uri": "https://localhost:8080/",
          "height": 346
        },
        "id": "1zm54LKOPSV7",
        "outputId": "8c9532d0-0c1f-4154-f97b-3925b568da7e"
      },
      "execution_count": null,
      "outputs": [
        {
          "output_type": "display_data",
          "data": {
            "text/plain": [
              "<Figure size 1000x500 with 10 Axes>"
            ],
            "image/png": "[encoded data removed]"
          },
          "metadata": {}
        }
      ]
    },
    {
      "cell_type": "code",
      "source": [
        "\n",
        "# Imprimir las primeras N matrices\n",
        "N = 10  # Puedes ajustar esto según sea necesario\n",
        "for i in range(min(N, len(digitos.images))):\n",
        "    print(f\"Matriz de la imagen {i} (etiqueta: {digitos.target[i]}):\")\n",
        "    print(digitos.images[i])\n",
        "    print(\"\\n\" + \"=\" * 50 + \"\\n\")  # Separador entre imágenes"
      ],
      "metadata": {
        "colab": {
          "base_uri": "https://localhost:8080/"
        },
        "id": "olE_47BwOk8w",
        "outputId": "530af20d-f2ad-4a05-b698-4ca8bcf2c1ed"
      },
      "execution_count": null,
      "outputs": [
        {
          "output_type": "stream",
          "name": "stdout",
          "text": [
            "Matriz de la imagen 0 (etiqueta: 0):\n",
            "[[ 0.  0.  5. 13.  9.  1.  0.  0.]\n",
            " [ 0.  0. 13. 15. 10. 15.  5.  0.]\n",
            " [ 0.  3. 15.  2.  0. 11.  8.  0.]\n",
            " [ 0.  4. 12.  0.  0.  8.  8.  0.]\n",
            " [ 0.  5.  8.  0.  0.  9.  8.  0.]\n",
            " [ 0.  4. 11.  0.  1. 12.  7.  0.]\n",
            " [ 0.  2. 14.  5. 10. 12.  0.  0.]\n",
            " [ 0.  0.  6. 13. 10.  0.  0.  0.]]\n",
            "\n",
            "==================================================\n",
            "\n",
            "Matriz de la imagen 1 (etiqueta: 1):\n",
            "[[ 0.  0.  0. 12. 13.  5.  0.  0.]\n",
            " [ 0.  0.  0. 11. 16.  9.  0.  0.]\n",
            " [ 0.  0.  3. 15. 16.  6.  0.  0.]\n",
            " [ 0.  7. 15. 16. 16.  2.  0.  0.]\n",
            " [ 0.  0.  1. 16. 16.  3.  0.  0.]\n",
            " [ 0.  0.  1. 16. 16.  6.  0.  0.]\n",
            " [ 0.  0.  1. 16. 16.  6.  0.  0.]\n",
            " [ 0.  0.  0. 11. 16. 10.  0.  0.]]\n",
            "\n",
            "==================================================\n",
            "\n",
            "Matriz de la imagen 2 (etiqueta: 2):\n",
            "[[ 0.  0.  0.  4. 15. 12.  0.  0.]\n",
            " [ 0.  0.  3. 16. 15. 14.  0.  0.]\n",
            " [ 0.  0.  8. 13.  8. 16.  0.  0.]\n",
            " [ 0.  0.  1.  6. 15. 11.  0.  0.]\n",
            " [ 0.  1.  8. 13. 15.  1.  0.  0.]\n",
            " [ 0.  9. 16. 16.  5.  0.  0.  0.]\n",
            " [ 0.  3. 13. 16. 16. 11.  5.  0.]\n",
            " [ 0.  0.  0.  3. 11. 16.  9.  0.]]\n",
            "\n",
            "==================================================\n",
            "\n",
            "Matriz de la imagen 3 (etiqueta: 3):\n",
            "[[ 0.  0.  7. 15. 13.  1.  0.  0.]\n",
            " [ 0.  8. 13.  6. 15.  4.  0.  0.]\n",
            " [ 0.  2.  1. 13. 13.  0.  0.  0.]\n",
            " [ 0.  0.  2. 15. 11.  1.  0.  0.]\n",
            " [ 0.  0.  0.  1. 12. 12.  1.  0.]\n",
            " [ 0.  0.  0.  0.  1. 10.  8.  0.]\n",
            " [ 0.  0.  8.  4.  5. 14.  9.  0.]\n",
            " [ 0.  0.  7. 13. 13.  9.  0.  0.]]\n",
            "\n",
            "==================================================\n",
            "\n",
            "Matriz de la imagen 4 (etiqueta: 4):\n",
            "[[ 0.  0.  0.  1. 11.  0.  0.  0.]\n",
            " [ 0.  0.  0.  7.  8.  0.  0.  0.]\n",
            " [ 0.  0.  1. 13.  6.  2.  2.  0.]\n",
            " [ 0.  0.  7. 15.  0.  9.  8.  0.]\n",
            " [ 0.  5. 16. 10.  0. 16.  6.  0.]\n",
            " [ 0.  4. 15. 16. 13. 16.  1.  0.]\n",
            " [ 0.  0.  0.  3. 15. 10.  0.  0.]\n",
            " [ 0.  0.  0.  2. 16.  4.  0.  0.]]\n",
            "\n",
            "==================================================\n",
            "\n",
            "Matriz de la imagen 5 (etiqueta: 5):\n",
            "[[ 0.  0. 12. 10.  0.  0.  0.  0.]\n",
            " [ 0.  0. 14. 16. 16. 14.  0.  0.]\n",
            " [ 0.  0. 13. 16. 15. 10.  1.  0.]\n",
            " [ 0.  0. 11. 16. 16.  7.  0.  0.]\n",
            " [ 0.  0.  0.  4.  7. 16.  7.  0.]\n",
            " [ 0.  0.  0.  0.  4. 16.  9.  0.]\n",
            " [ 0.  0.  5.  4. 12. 16.  4.  0.]\n",
            " [ 0.  0.  9. 16. 16. 10.  0.  0.]]\n",
            "\n",
            "==================================================\n",
            "\n",
            "Matriz de la imagen 6 (etiqueta: 6):\n",
            "[[ 0.  0.  0. 12. 13.  0.  0.  0.]\n",
            " [ 0.  0.  5. 16.  8.  0.  0.  0.]\n",
            " [ 0.  0. 13. 16.  3.  0.  0.  0.]\n",
            " [ 0.  0. 14. 13.  0.  0.  0.  0.]\n",
            " [ 0.  0. 15. 12.  7.  2.  0.  0.]\n",
            " [ 0.  0. 13. 16. 13. 16.  3.  0.]\n",
            " [ 0.  0.  7. 16. 11. 15.  8.  0.]\n",
            " [ 0.  0.  1.  9. 15. 11.  3.  0.]]\n",
            "\n",
            "==================================================\n",
            "\n",
            "Matriz de la imagen 7 (etiqueta: 7):\n",
            "[[ 0.  0.  7.  8. 13. 16. 15.  1.]\n",
            " [ 0.  0.  7.  7.  4. 11. 12.  0.]\n",
            " [ 0.  0.  0.  0.  8. 13.  1.  0.]\n",
            " [ 0.  4.  8.  8. 15. 15.  6.  0.]\n",
            " [ 0.  2. 11. 15. 15.  4.  0.  0.]\n",
            " [ 0.  0.  0. 16.  5.  0.  0.  0.]\n",
            " [ 0.  0.  9. 15.  1.  0.  0.  0.]\n",
            " [ 0.  0. 13.  5.  0.  0.  0.  0.]]\n",
            "\n",
            "==================================================\n",
            "\n",
            "Matriz de la imagen 8 (etiqueta: 8):\n",
            "[[ 0.  0.  9. 14.  8.  1.  0.  0.]\n",
            " [ 0.  0. 12. 14. 14. 12.  0.  0.]\n",
            " [ 0.  0.  9. 10.  0. 15.  4.  0.]\n",
            " [ 0.  0.  3. 16. 12. 14.  2.  0.]\n",
            " [ 0.  0.  4. 16. 16.  2.  0.  0.]\n",
            " [ 0.  3. 16.  8. 10. 13.  2.  0.]\n",
            " [ 0.  1. 15.  1.  3. 16.  8.  0.]\n",
            " [ 0.  0. 11. 16. 15. 11.  1.  0.]]\n",
            "\n",
            "==================================================\n",
            "\n",
            "Matriz de la imagen 9 (etiqueta: 9):\n",
            "[[ 0.  0. 11. 12.  0.  0.  0.  0.]\n",
            " [ 0.  2. 16. 16. 16. 13.  0.  0.]\n",
            " [ 0.  3. 16. 12. 10. 14.  0.  0.]\n",
            " [ 0.  1. 16.  1. 12. 15.  0.  0.]\n",
            " [ 0.  0. 13. 16.  9. 15.  2.  0.]\n",
            " [ 0.  0.  0.  3.  0.  9. 11.  0.]\n",
            " [ 0.  0.  0.  0.  9. 15.  4.  0.]\n",
            " [ 0.  0.  9. 12. 13.  3.  0.  0.]]\n",
            "\n",
            "==================================================\n",
            "\n"
          ]
        }
      ]
    },
    {
      "cell_type": "code",
      "source": [
        "# ahora divido el conjunto de datos en entrenamiento y test\n",
        "#el 30% se utiliza como conjunto de prueba\n",
        "# el 70% se utiliza como entrenamiento\n",
        "#Shuffle=true los datos se mezclaran antes de dividirlos\n",
        "X_train, X_test, y_train, y_test = train_test_split(digitos.data, digitos.target, test_size=0.3, shuffle=True)"
      ],
      "metadata": {
        "id": "3O0B26fqXfEZ"
      },
      "execution_count": null,
      "outputs": []
    },
    {
      "cell_type": "code",
      "source": [
        "# para evitar sobreajuste del modelo, subdividimos el conjjunto de entrenamiento a otro connjunto de validacion.\n",
        "# esto para tener un conjunto de vaidacion aparte del de entrenamiento, para evaluar el rendimiento del modelo\n",
        "X_train, X_val, y_train, y_val = train_test_split(X_train,y_train,test_size = 0.15,shuffle=False)\n",
        "#85% de datos originales en X,y_train\n",
        "# 15% conjuntode validacion x,y_val\n",
        "#shuffle=false para que no se mezclen los datos antes de la division, para mantener la secuencia de datos originales\n"
      ],
      "metadata": {
        "id": "16pjWTnrXfHu"
      },
      "execution_count": null,
      "outputs": []
    },
    {
      "cell_type": "code",
      "source": [
        "#CAPAS CONVOLUCIONALES\n",
        "X_train = X_train.reshape(X_train.shape[0],8,8,1)#numejemplos,alto,ancho,canal1,xqes img en grises\n",
        "X_val = X_val.reshape(X_val.shape[0],8,8,1)\n",
        "X_test = X_test.reshape(X_test.shape[0],8,8,1)"
      ],
      "metadata": {
        "id": "iDNuuqTQXfK0"
      },
      "execution_count": null,
      "outputs": []
    },
    {
      "cell_type": "code",
      "source": [
        "# codificando clases\n",
        "y_train = to_categorical(y_train)#to_cat de Tensorflow, convert etiq en representacion one_hot encoding\n",
        "y_val = to_categorical(y_val)  # en binario\n",
        "y_test = to_categorical(y_test)"
      ],
      "metadata": {
        "id": "LXHJ2VzIbXxa"
      },
      "execution_count": null,
      "outputs": []
    },
    {
      "cell_type": "code",
      "source": [
        "#MODELO\n",
        "model = tf.keras.Sequential()#crea modelo secuencial en TF y K, se apilan una sobre otra,de forma lineal\n",
        "model.add(Conv2D(24, kernel_size=3, padding='same', activation='relu', input_shape=(8,8,1)))\n",
        "#convolucion bidimensional,24 filtros,de 3x3 tam,relleno,activacio,forma\n",
        "model.add(MaxPooling2D())#reduccion de muestreo\n",
        "model.add(Conv2D(48, kernel_size=3, padding='same', activation='relu'))\n",
        "model.add(MaxPooling2D())\n",
        "model.add(Flatten())#convert tridimensional en bidimensional\n",
        "model.add(Dense(10, activation=\"softmax\"))#agrega capa densa con 10 neuronas\n",
        "model.compile(optimizer=\"adam\",loss='categorical_crossentropy', metrics=['accuracy'])\n",
        "#optimizador,clasfifdor multiclase, presicion"
      ],
      "metadata": {
        "id": "DAL76n4fbYDE"
      },
      "execution_count": null,
      "outputs": []
    },
    {
      "cell_type": "code",
      "source": [
        "# Entrenamos el modelo y visualizamos la evolucion de la presicion en el conjunto de entrenamiento y validacion\n",
        "history=model.fit(X_train, y_train ,epochs=100, batch_size=512, validation_data=(X_val,y_val))\n",
        "#history= 100epocas de entrenamiento,tamlote 512,conjunti de validacion\n",
        "plt.plot(history.history['accuracy'])\n",
        "plt.plot(history.history['val_accuracy'])\n",
        "plt.title('model accuracy')\n",
        "plt.ylabel('accuracy')\n",
        "plt.xlabel('epoch')\n",
        "plt.legend(['train', 'validation'], loc='upper left') #supizquierdo(cuadroetiqueta)\n",
        "plt.show()"
      ],
      "metadata": {
        "colab": {
          "base_uri": "https://localhost:8080/",
          "height": 1000
        },
        "id": "j1ORrWdSbYF5",
        "outputId": "99f8ba32-652d-40fa-a998-ff3814715200"
      },
      "execution_count": null,
      "outputs": [
        {
          "output_type": "stream",
          "name": "stdout",
          "text": [
            "Epoch 1/100\n",
            "3/3 [==============================] - 1s 138ms/step - loss: 3.0999 - accuracy: 0.0515 - val_loss: 2.5904 - val_accuracy: 0.0899\n",
            "Epoch 2/100\n",
            "3/3 [==============================] - 0s 42ms/step - loss: 2.4890 - accuracy: 0.1208 - val_loss: 2.2735 - val_accuracy: 0.2169\n",
            "Epoch 3/100\n",
            "3/3 [==============================] - 0s 44ms/step - loss: 2.2077 - accuracy: 0.2350 - val_loss: 1.9677 - val_accuracy: 0.3439\n",
            "Epoch 4/100\n",
            "3/3 [==============================] - 0s 44ms/step - loss: 1.9014 - accuracy: 0.4026 - val_loss: 1.7433 - val_accuracy: 0.4974\n",
            "Epoch 5/100\n",
            "3/3 [==============================] - 0s 44ms/step - loss: 1.6512 - accuracy: 0.5272 - val_loss: 1.5798 - val_accuracy: 0.6032\n",
            "Epoch 6/100\n",
            "3/3 [==============================] - 0s 46ms/step - loss: 1.4619 - accuracy: 0.6723 - val_loss: 1.4382 - val_accuracy: 0.6878\n",
            "Epoch 7/100\n",
            "3/3 [==============================] - 0s 50ms/step - loss: 1.2848 - accuracy: 0.7575 - val_loss: 1.2446 - val_accuracy: 0.7143\n",
            "Epoch 8/100\n",
            "3/3 [==============================] - 0s 38ms/step - loss: 1.0865 - accuracy: 0.8071 - val_loss: 1.0638 - val_accuracy: 0.7672\n",
            "Epoch 9/100\n",
            "3/3 [==============================] - 0s 42ms/step - loss: 0.9274 - accuracy: 0.8230 - val_loss: 0.9217 - val_accuracy: 0.7937\n",
            "Epoch 10/100\n",
            "3/3 [==============================] - 0s 42ms/step - loss: 0.7950 - accuracy: 0.8511 - val_loss: 0.7996 - val_accuracy: 0.8201\n",
            "Epoch 11/100\n",
            "3/3 [==============================] - 0s 38ms/step - loss: 0.6682 - accuracy: 0.8961 - val_loss: 0.7184 - val_accuracy: 0.8571\n",
            "Epoch 12/100\n",
            "3/3 [==============================] - 0s 36ms/step - loss: 0.5849 - accuracy: 0.9054 - val_loss: 0.6473 - val_accuracy: 0.8836\n",
            "Epoch 13/100\n",
            "3/3 [==============================] - 0s 38ms/step - loss: 0.5075 - accuracy: 0.9223 - val_loss: 0.5704 - val_accuracy: 0.8783\n",
            "Epoch 14/100\n",
            "3/3 [==============================] - 0s 35ms/step - loss: 0.4327 - accuracy: 0.9232 - val_loss: 0.5137 - val_accuracy: 0.8730\n",
            "Epoch 15/100\n",
            "3/3 [==============================] - 0s 43ms/step - loss: 0.3916 - accuracy: 0.9251 - val_loss: 0.4582 - val_accuracy: 0.8889\n",
            "Epoch 16/100\n",
            "3/3 [==============================] - 0s 38ms/step - loss: 0.3406 - accuracy: 0.9354 - val_loss: 0.4153 - val_accuracy: 0.9101\n",
            "Epoch 17/100\n",
            "3/3 [==============================] - 0s 45ms/step - loss: 0.3046 - accuracy: 0.9494 - val_loss: 0.3801 - val_accuracy: 0.9259\n",
            "Epoch 18/100\n",
            "3/3 [==============================] - 0s 38ms/step - loss: 0.2727 - accuracy: 0.9522 - val_loss: 0.3537 - val_accuracy: 0.9153\n",
            "Epoch 19/100\n",
            "3/3 [==============================] - 0s 37ms/step - loss: 0.2467 - accuracy: 0.9551 - val_loss: 0.3445 - val_accuracy: 0.9153\n",
            "Epoch 20/100\n",
            "3/3 [==============================] - 0s 43ms/step - loss: 0.2314 - accuracy: 0.9569 - val_loss: 0.3029 - val_accuracy: 0.9259\n",
            "Epoch 21/100\n",
            "3/3 [==============================] - 0s 45ms/step - loss: 0.2045 - accuracy: 0.9616 - val_loss: 0.2777 - val_accuracy: 0.9206\n",
            "Epoch 22/100\n",
            "3/3 [==============================] - 0s 39ms/step - loss: 0.1999 - accuracy: 0.9551 - val_loss: 0.2685 - val_accuracy: 0.9259\n",
            "Epoch 23/100\n",
            "3/3 [==============================] - 0s 49ms/step - loss: 0.1824 - accuracy: 0.9616 - val_loss: 0.2557 - val_accuracy: 0.9312\n",
            "Epoch 24/100\n",
            "3/3 [==============================] - 0s 38ms/step - loss: 0.1626 - accuracy: 0.9682 - val_loss: 0.2442 - val_accuracy: 0.9312\n",
            "Epoch 25/100\n",
            "3/3 [==============================] - 0s 48ms/step - loss: 0.1534 - accuracy: 0.9691 - val_loss: 0.2250 - val_accuracy: 0.9312\n",
            "Epoch 26/100\n",
            "3/3 [==============================] - 0s 37ms/step - loss: 0.1457 - accuracy: 0.9728 - val_loss: 0.2078 - val_accuracy: 0.9471\n",
            "Epoch 27/100\n",
            "3/3 [==============================] - 0s 39ms/step - loss: 0.1347 - accuracy: 0.9738 - val_loss: 0.2011 - val_accuracy: 0.9471\n",
            "Epoch 28/100\n",
            "3/3 [==============================] - 0s 44ms/step - loss: 0.1270 - accuracy: 0.9738 - val_loss: 0.1963 - val_accuracy: 0.9418\n",
            "Epoch 29/100\n",
            "3/3 [==============================] - 0s 60ms/step - loss: 0.1171 - accuracy: 0.9738 - val_loss: 0.1959 - val_accuracy: 0.9418\n",
            "Epoch 30/100\n",
            "3/3 [==============================] - 0s 67ms/step - loss: 0.1119 - accuracy: 0.9775 - val_loss: 0.1942 - val_accuracy: 0.9365\n",
            "Epoch 31/100\n",
            "3/3 [==============================] - 0s 70ms/step - loss: 0.1059 - accuracy: 0.9803 - val_loss: 0.1821 - val_accuracy: 0.9418\n",
            "Epoch 32/100\n",
            "3/3 [==============================] - 0s 70ms/step - loss: 0.1002 - accuracy: 0.9813 - val_loss: 0.1687 - val_accuracy: 0.9418\n",
            "Epoch 33/100\n",
            "3/3 [==============================] - 0s 69ms/step - loss: 0.0960 - accuracy: 0.9822 - val_loss: 0.1575 - val_accuracy: 0.9630\n",
            "Epoch 34/100\n",
            "3/3 [==============================] - 0s 63ms/step - loss: 0.0938 - accuracy: 0.9831 - val_loss: 0.1518 - val_accuracy: 0.9630\n",
            "Epoch 35/100\n",
            "3/3 [==============================] - 0s 65ms/step - loss: 0.0886 - accuracy: 0.9850 - val_loss: 0.1426 - val_accuracy: 0.9630\n",
            "Epoch 36/100\n",
            "3/3 [==============================] - 0s 60ms/step - loss: 0.0863 - accuracy: 0.9869 - val_loss: 0.1415 - val_accuracy: 0.9577\n",
            "Epoch 37/100\n",
            "3/3 [==============================] - 0s 71ms/step - loss: 0.0843 - accuracy: 0.9850 - val_loss: 0.1418 - val_accuracy: 0.9577\n",
            "Epoch 38/100\n",
            "3/3 [==============================] - 0s 64ms/step - loss: 0.0789 - accuracy: 0.9860 - val_loss: 0.1799 - val_accuracy: 0.9365\n",
            "Epoch 39/100\n",
            "3/3 [==============================] - 0s 69ms/step - loss: 0.0899 - accuracy: 0.9794 - val_loss: 0.1380 - val_accuracy: 0.9577\n",
            "Epoch 40/100\n",
            "3/3 [==============================] - 0s 72ms/step - loss: 0.0697 - accuracy: 0.9888 - val_loss: 0.1241 - val_accuracy: 0.9683\n",
            "Epoch 41/100\n",
            "3/3 [==============================] - 0s 65ms/step - loss: 0.0710 - accuracy: 0.9878 - val_loss: 0.1193 - val_accuracy: 0.9630\n",
            "Epoch 42/100\n",
            "3/3 [==============================] - 0s 59ms/step - loss: 0.0664 - accuracy: 0.9906 - val_loss: 0.1206 - val_accuracy: 0.9630\n",
            "Epoch 43/100\n",
            "3/3 [==============================] - 0s 75ms/step - loss: 0.0611 - accuracy: 0.9934 - val_loss: 0.1301 - val_accuracy: 0.9683\n",
            "Epoch 44/100\n",
            "3/3 [==============================] - 0s 57ms/step - loss: 0.0658 - accuracy: 0.9916 - val_loss: 0.1260 - val_accuracy: 0.9735\n",
            "Epoch 45/100\n",
            "3/3 [==============================] - 0s 59ms/step - loss: 0.0588 - accuracy: 0.9934 - val_loss: 0.1148 - val_accuracy: 0.9735\n",
            "Epoch 46/100\n",
            "3/3 [==============================] - 0s 61ms/step - loss: 0.0587 - accuracy: 0.9897 - val_loss: 0.1153 - val_accuracy: 0.9683\n",
            "Epoch 47/100\n",
            "3/3 [==============================] - 0s 69ms/step - loss: 0.0582 - accuracy: 0.9878 - val_loss: 0.1038 - val_accuracy: 0.9788\n",
            "Epoch 48/100\n",
            "3/3 [==============================] - 0s 59ms/step - loss: 0.0511 - accuracy: 0.9944 - val_loss: 0.1056 - val_accuracy: 0.9788\n",
            "Epoch 49/100\n",
            "3/3 [==============================] - 0s 62ms/step - loss: 0.0501 - accuracy: 0.9944 - val_loss: 0.1044 - val_accuracy: 0.9788\n",
            "Epoch 50/100\n",
            "3/3 [==============================] - 0s 60ms/step - loss: 0.0489 - accuracy: 0.9925 - val_loss: 0.1050 - val_accuracy: 0.9683\n",
            "Epoch 51/100\n",
            "3/3 [==============================] - 0s 59ms/step - loss: 0.0460 - accuracy: 0.9944 - val_loss: 0.1158 - val_accuracy: 0.9683\n",
            "Epoch 52/100\n",
            "3/3 [==============================] - 0s 63ms/step - loss: 0.0511 - accuracy: 0.9944 - val_loss: 0.1076 - val_accuracy: 0.9630\n",
            "Epoch 53/100\n",
            "3/3 [==============================] - 0s 61ms/step - loss: 0.0453 - accuracy: 0.9953 - val_loss: 0.1013 - val_accuracy: 0.9788\n",
            "Epoch 54/100\n",
            "3/3 [==============================] - 0s 67ms/step - loss: 0.0430 - accuracy: 0.9934 - val_loss: 0.1031 - val_accuracy: 0.9735\n",
            "Epoch 55/100\n",
            "3/3 [==============================] - 0s 64ms/step - loss: 0.0433 - accuracy: 0.9953 - val_loss: 0.0978 - val_accuracy: 0.9788\n",
            "Epoch 56/100\n",
            "3/3 [==============================] - 0s 67ms/step - loss: 0.0389 - accuracy: 0.9963 - val_loss: 0.0959 - val_accuracy: 0.9841\n",
            "Epoch 57/100\n",
            "3/3 [==============================] - 0s 69ms/step - loss: 0.0373 - accuracy: 0.9981 - val_loss: 0.0919 - val_accuracy: 0.9841\n",
            "Epoch 58/100\n",
            "3/3 [==============================] - 0s 68ms/step - loss: 0.0355 - accuracy: 0.9981 - val_loss: 0.0844 - val_accuracy: 0.9894\n",
            "Epoch 59/100\n",
            "3/3 [==============================] - 0s 71ms/step - loss: 0.0345 - accuracy: 0.9981 - val_loss: 0.0842 - val_accuracy: 0.9788\n",
            "Epoch 60/100\n",
            "3/3 [==============================] - 0s 54ms/step - loss: 0.0334 - accuracy: 0.9953 - val_loss: 0.0913 - val_accuracy: 0.9841\n",
            "Epoch 61/100\n",
            "3/3 [==============================] - 0s 45ms/step - loss: 0.0344 - accuracy: 0.9963 - val_loss: 0.1030 - val_accuracy: 0.9735\n",
            "Epoch 62/100\n",
            "3/3 [==============================] - 0s 46ms/step - loss: 0.0352 - accuracy: 0.9981 - val_loss: 0.0971 - val_accuracy: 0.9841\n",
            "Epoch 63/100\n",
            "3/3 [==============================] - 0s 45ms/step - loss: 0.0321 - accuracy: 0.9972 - val_loss: 0.0874 - val_accuracy: 0.9788\n",
            "Epoch 64/100\n",
            "3/3 [==============================] - 0s 44ms/step - loss: 0.0301 - accuracy: 0.9963 - val_loss: 0.0814 - val_accuracy: 0.9841\n",
            "Epoch 65/100\n",
            "3/3 [==============================] - 0s 45ms/step - loss: 0.0295 - accuracy: 0.9963 - val_loss: 0.0758 - val_accuracy: 0.9894\n",
            "Epoch 66/100\n",
            "3/3 [==============================] - 0s 40ms/step - loss: 0.0281 - accuracy: 0.9981 - val_loss: 0.0736 - val_accuracy: 0.9894\n",
            "Epoch 67/100\n",
            "3/3 [==============================] - 0s 45ms/step - loss: 0.0276 - accuracy: 0.9991 - val_loss: 0.0774 - val_accuracy: 0.9841\n",
            "Epoch 68/100\n",
            "3/3 [==============================] - 0s 39ms/step - loss: 0.0275 - accuracy: 0.9981 - val_loss: 0.0931 - val_accuracy: 0.9735\n",
            "Epoch 69/100\n",
            "3/3 [==============================] - 0s 45ms/step - loss: 0.0298 - accuracy: 0.9972 - val_loss: 0.0863 - val_accuracy: 0.9788\n",
            "Epoch 70/100\n",
            "3/3 [==============================] - 0s 46ms/step - loss: 0.0265 - accuracy: 0.9963 - val_loss: 0.0917 - val_accuracy: 0.9683\n",
            "Epoch 71/100\n",
            "3/3 [==============================] - 0s 47ms/step - loss: 0.0292 - accuracy: 0.9963 - val_loss: 0.0795 - val_accuracy: 0.9788\n",
            "Epoch 72/100\n",
            "3/3 [==============================] - 0s 39ms/step - loss: 0.0245 - accuracy: 0.9972 - val_loss: 0.0708 - val_accuracy: 0.9894\n",
            "Epoch 73/100\n",
            "3/3 [==============================] - 0s 39ms/step - loss: 0.0235 - accuracy: 0.9991 - val_loss: 0.0759 - val_accuracy: 0.9894\n",
            "Epoch 74/100\n",
            "3/3 [==============================] - 0s 41ms/step - loss: 0.0256 - accuracy: 0.9981 - val_loss: 0.0685 - val_accuracy: 0.9894\n",
            "Epoch 75/100\n",
            "3/3 [==============================] - 0s 37ms/step - loss: 0.0221 - accuracy: 0.9991 - val_loss: 0.0692 - val_accuracy: 0.9841\n",
            "Epoch 76/100\n",
            "3/3 [==============================] - 0s 39ms/step - loss: 0.0230 - accuracy: 0.9981 - val_loss: 0.0672 - val_accuracy: 0.9841\n",
            "Epoch 77/100\n",
            "3/3 [==============================] - 0s 37ms/step - loss: 0.0210 - accuracy: 0.9981 - val_loss: 0.0653 - val_accuracy: 0.9894\n",
            "Epoch 78/100\n",
            "3/3 [==============================] - 0s 45ms/step - loss: 0.0203 - accuracy: 0.9991 - val_loss: 0.0681 - val_accuracy: 0.9894\n",
            "Epoch 79/100\n",
            "3/3 [==============================] - 0s 41ms/step - loss: 0.0200 - accuracy: 0.9991 - val_loss: 0.0625 - val_accuracy: 0.9894\n",
            "Epoch 80/100\n",
            "3/3 [==============================] - 0s 44ms/step - loss: 0.0188 - accuracy: 0.9991 - val_loss: 0.0641 - val_accuracy: 0.9841\n",
            "Epoch 81/100\n",
            "3/3 [==============================] - 0s 47ms/step - loss: 0.0192 - accuracy: 0.9981 - val_loss: 0.0626 - val_accuracy: 0.9894\n",
            "Epoch 82/100\n",
            "3/3 [==============================] - 0s 41ms/step - loss: 0.0175 - accuracy: 1.0000 - val_loss: 0.0732 - val_accuracy: 0.9894\n",
            "Epoch 83/100\n",
            "3/3 [==============================] - 0s 45ms/step - loss: 0.0223 - accuracy: 0.9991 - val_loss: 0.0673 - val_accuracy: 0.9947\n",
            "Epoch 84/100\n",
            "3/3 [==============================] - 0s 45ms/step - loss: 0.0185 - accuracy: 0.9991 - val_loss: 0.0607 - val_accuracy: 0.9894\n",
            "Epoch 85/100\n",
            "3/3 [==============================] - 0s 43ms/step - loss: 0.0162 - accuracy: 1.0000 - val_loss: 0.0612 - val_accuracy: 0.9841\n",
            "Epoch 86/100\n",
            "3/3 [==============================] - 0s 40ms/step - loss: 0.0173 - accuracy: 0.9991 - val_loss: 0.0593 - val_accuracy: 0.9894\n",
            "Epoch 87/100\n",
            "3/3 [==============================] - 0s 39ms/step - loss: 0.0174 - accuracy: 0.9991 - val_loss: 0.0591 - val_accuracy: 0.9947\n",
            "Epoch 88/100\n",
            "3/3 [==============================] - 0s 46ms/step - loss: 0.0163 - accuracy: 1.0000 - val_loss: 0.0594 - val_accuracy: 0.9841\n",
            "Epoch 89/100\n",
            "3/3 [==============================] - 0s 38ms/step - loss: 0.0149 - accuracy: 1.0000 - val_loss: 0.0630 - val_accuracy: 0.9788\n",
            "Epoch 90/100\n",
            "3/3 [==============================] - 0s 37ms/step - loss: 0.0152 - accuracy: 1.0000 - val_loss: 0.0610 - val_accuracy: 0.9841\n",
            "Epoch 91/100\n",
            "3/3 [==============================] - 0s 38ms/step - loss: 0.0144 - accuracy: 1.0000 - val_loss: 0.0565 - val_accuracy: 0.9841\n",
            "Epoch 92/100\n",
            "3/3 [==============================] - 0s 39ms/step - loss: 0.0135 - accuracy: 1.0000 - val_loss: 0.0542 - val_accuracy: 0.9894\n",
            "Epoch 93/100\n",
            "3/3 [==============================] - 0s 46ms/step - loss: 0.0134 - accuracy: 1.0000 - val_loss: 0.0546 - val_accuracy: 0.9894\n",
            "Epoch 94/100\n",
            "3/3 [==============================] - 0s 43ms/step - loss: 0.0132 - accuracy: 1.0000 - val_loss: 0.0553 - val_accuracy: 0.9841\n",
            "Epoch 95/100\n",
            "3/3 [==============================] - 0s 44ms/step - loss: 0.0130 - accuracy: 1.0000 - val_loss: 0.0603 - val_accuracy: 0.9841\n",
            "Epoch 96/100\n",
            "3/3 [==============================] - 0s 41ms/step - loss: 0.0152 - accuracy: 1.0000 - val_loss: 0.0578 - val_accuracy: 0.9841\n",
            "Epoch 97/100\n",
            "3/3 [==============================] - 0s 37ms/step - loss: 0.0127 - accuracy: 1.0000 - val_loss: 0.0576 - val_accuracy: 0.9894\n",
            "Epoch 98/100\n",
            "3/3 [==============================] - 0s 37ms/step - loss: 0.0127 - accuracy: 1.0000 - val_loss: 0.0642 - val_accuracy: 0.9841\n",
            "Epoch 99/100\n",
            "3/3 [==============================] - 0s 57ms/step - loss: 0.0136 - accuracy: 0.9991 - val_loss: 0.0608 - val_accuracy: 0.9894\n",
            "Epoch 100/100\n",
            "3/3 [==============================] - 0s 44ms/step - loss: 0.0123 - accuracy: 1.0000 - val_loss: 0.0598 - val_accuracy: 0.9841\n"
          ]
        },
        {
          "output_type": "display_data",
          "data": {
            "text/plain": [
              "<Figure size 640x480 with 1 Axes>"
            ],
            "image/png": "[encoded data removed]"
          },
          "metadata": {}
        }
      ]
    },
    {
      "cell_type": "code",
      "source": [
        "#Evaluacion del modelo\n",
        "results = model.evaluate(X_test,y_test)#devuelve uan lista de valores que representa las metricas\n",
        "print('Resultados: ')\n",
        "print(dict(zip(model.metrics_names, results)))"
      ],
      "metadata": {
        "colab": {
          "base_uri": "https://localhost:8080/"
        },
        "id": "6liXM3hXbYJC",
        "outputId": "d88675f6-cf67-40a0-9a8d-b8e8a1663b05"
      },
      "execution_count": null,
      "outputs": [
        {
          "output_type": "stream",
          "name": "stdout",
          "text": [
            "17/17 [==============================] - 0s 3ms/step - loss: 0.0441 - accuracy: 0.9833\n",
            "Resultados: \n",
            "{'loss': 0.04412362724542618, 'accuracy': 0.9833333492279053}\n"
          ]
        }
      ]
    }
  ]
}